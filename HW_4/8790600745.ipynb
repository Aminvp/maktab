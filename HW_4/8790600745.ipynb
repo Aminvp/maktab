{
  "nbformat": 4,
  "nbformat_minor": 0,
  "metadata": {
    "colab": {
      "name": "Untitled0.ipynb",
      "provenance": []
    },
    "kernelspec": {
      "name": "python3",
      "display_name": "Python 3"
    },
    "language_info": {
      "name": "python"
    }
  },
  "cells": [
    {
      "cell_type": "code",
      "metadata": {
        "colab": {
          "base_uri": "https://localhost:8080/"
        },
        "id": "3wuYS3OTc87B",
        "outputId": "17752591-32f1-49ab-9bc8-700e854f05d2"
      },
      "source": [
        "class adreess :\n",
        "    def __init__(self,sity,street) :\n",
        "        self.sity = sity\n",
        "        self.street = street\n",
        "        self.dsity = {}\n",
        "        self.dstreet = {}\n",
        "        self.lst = []\n",
        "\n",
        "    def func(self) :\n",
        "        self.dname['sity'] = self.sity\n",
        "        self.dstreet['street'] = self.street\n",
        "        self.lst.append(self.dsity)\n",
        "        self.lst.append(self.dstreet)\n",
        "        return self.lst\n",
        "\n",
        "\n",
        "adr1 = adreess('Tehran','Hafiz')\n",
        "print(adr1.func)"
      ],
      "execution_count": null,
      "outputs": [
        {
          "output_type": "stream",
          "text": [
            "<bound method adreess.func of <__main__.adreess object at 0x7ff6d8d9b990>>\n"
          ],
          "name": "stdout"
        }
      ]
    },
    {
      "cell_type": "code",
      "metadata": {
        "colab": {
          "base_uri": "https://localhost:8080/"
        },
        "id": "oElAsAeAdqbM",
        "outputId": "b649a151-1a17-40e3-b45c-d06a3464ce0f"
      },
      "source": [
        "class person :\n",
        "    def __init__(self,name,email,phone_number) :\n",
        "        self.name = name\n",
        "        self.email = email\n",
        "        self.phone_number = phone_number\n",
        "\n",
        "    def __str__(self) :\n",
        "        return f\"name : {self.name} \\nemail : {self.email} \\nphone number : {self.phone_number}\"\n",
        "\n",
        "\n",
        "per1 = person('Ali','Ali@gmail.com','0910******')\n",
        "print(per1)"
      ],
      "execution_count": null,
      "outputs": [
        {
          "output_type": "stream",
          "text": [
            "name : Ali \n",
            "email : Ali@gmail.com \n",
            "phone number : 0910******\n"
          ],
          "name": "stdout"
        }
      ]
    },
    {
      "cell_type": "code",
      "metadata": {
        "colab": {
          "base_uri": "https://localhost:8080/"
        },
        "id": "5EvF9XIWfwzc",
        "outputId": "564b6299-49e1-4b3f-8c74-f661248632cd"
      },
      "source": [
        "class contact :\n",
        "    def __init__(self , a , b) :\n",
        "        self.a = a\n",
        "        self.b = b\n",
        "\n",
        "    def __str__(self) :\n",
        "        return f\"adreess : {self.a.sity} , {self.a.street} \\n person : {self.b.name} , {self.b.email} , {self.b.phone_number}\"\n",
        "\n",
        "adr1 = adreess('Tehran','Hafiz')\n",
        "per1 = person('Ali','Ali@gmail.com','0910******')\n",
        "co1 = contact(adr1,per1)\n",
        "print(co1)"
      ],
      "execution_count": null,
      "outputs": [
        {
          "output_type": "stream",
          "text": [
            "adreess : Tehran , Hafiz \n",
            " person : Ali , Ali@gmail.com , 0910******\n"
          ],
          "name": "stdout"
        }
      ]
    },
    {
      "cell_type": "code",
      "metadata": {
        "colab": {
          "base_uri": "https://localhost:8080/"
        },
        "id": "_wNjcuyPn0GD",
        "outputId": "5bec74c6-8d0f-42af-fe3f-8562447c8387"
      },
      "source": [
        "class notebook :\n",
        "    def __init__(self) :\n",
        "        self.lst = []\n",
        "\n",
        "    def add_contact(self,co1) :\n",
        "        self.lst.append(co1)\n",
        "        return self.lst\n",
        "\n",
        "    def show_contact(self) :\n",
        "        for i in self.lst :\n",
        "            print(i)\n",
        "\n",
        "    def search(self,NAME) :\n",
        "        for i in self.lst :\n",
        "            if NAME == i.b.name :\n",
        "                print(i)\n",
        "\n",
        "\n",
        "\n",
        "\n",
        "n1 = notebook()\n",
        "n1.add_contact(co1)\n",
        "n1.show_contact()\n",
        "n1.search('Ali')\n",
        "    "
      ],
      "execution_count": null,
      "outputs": [
        {
          "output_type": "stream",
          "text": [
            "adreess : Tehran , Hafiz \n",
            " person : Ali , Ali@gmail.com , 0910******\n",
            "adreess : Tehran , Hafiz \n",
            " person : Ali , Ali@gmail.com , 0910******\n"
          ],
          "name": "stdout"
        }
      ]
    }
  ]
}